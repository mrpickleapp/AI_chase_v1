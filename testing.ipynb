{
 "cells": [
  {
   "cell_type": "code",
   "execution_count": 127,
   "metadata": {},
   "outputs": [],
   "source": [
    "import numpy as np\n",
    "import seaborn as sns"
   ]
  },
  {
   "cell_type": "code",
   "execution_count": 201,
   "metadata": {},
   "outputs": [],
   "source": [
    "evolution_rate = 0.1\n",
    "\n",
    "test = np.random.normal(loc=0, scale=evolution_rate, size=1000)"
   ]
  },
  {
   "cell_type": "code",
   "execution_count": 205,
   "metadata": {},
   "outputs": [
    {
     "data": {
      "text/plain": [
       "array([ 0.37255217,  0.16710657, -0.10516767,  0.11007207,  0.36163754,\n",
       "       -0.00893542, -0.10821911,  0.24076121, -0.0951294 ,  0.15548089])"
      ]
     },
     "execution_count": 205,
     "metadata": {},
     "output_type": "execute_result"
    }
   ],
   "source": [
    "tests = np.random.rand(10) - 0.5\n",
    "tests"
   ]
  },
  {
   "cell_type": "code",
   "execution_count": 222,
   "metadata": {},
   "outputs": [
    {
     "data": {
      "text/plain": [
       "[array([0.35736432]),\n",
       " array([0.24448889]),\n",
       " array([-0.14609308]),\n",
       " array([0.14549772]),\n",
       " array([0.34746545]),\n",
       " array([0.03462188]),\n",
       " array([-0.08815824]),\n",
       " array([0.17764616]),\n",
       " array([-0.08523873]),\n",
       " array([0.18101467])]"
      ]
     },
     "execution_count": 222,
     "metadata": {},
     "output_type": "execute_result"
    }
   ],
   "source": [
    "evolution_rate = 0.1\n",
    "\n",
    "def applyEvolution(n, evolution_rate):\n",
    "\n",
    "    m = n + 0.5\n",
    "    m *= np.random.normal(loc=1, scale=evolution_rate, size=1)\n",
    "    m -= 0.5\n",
    "\n",
    "    return m\n",
    "\n",
    "nn = []\n",
    "\n",
    "for t in tests:\n",
    "    nn.append(applyEvolution(t, evolution_rate))\n",
    "\n",
    "nn"
   ]
  },
  {
   "cell_type": "code",
   "execution_count": 149,
   "metadata": {},
   "outputs": [],
   "source": [
    "# Base class\n",
    "class Layer:\n",
    "    def __init__(self):\n",
    "        self.input = None\n",
    "        self.output = None\n",
    "\n",
    "    # computes the output Y of a layer for a given input X\n",
    "    def forward_propagation(self, input):\n",
    "        raise NotImplementedError\n",
    "        \n",
    "        \n",
    "# Fully Connected Laye\n",
    "class FCLayer(Layer):\n",
    "    # input_size = number of input neurons\n",
    "    # output_size = number of output neurons\n",
    "    def __init__(self, input_size, output_size):\n",
    "        self.weights = np.random.rand(input_size, output_size) - 0.5\n",
    "        self.bias = np.random.rand(1, output_size) - 0.5\n",
    "\n",
    "    # returns output for a given input\n",
    "    def forward_propagation(self, input_data):\n",
    "        self.input = input_data\n",
    "        self.output = np.dot(self.input, self.weights) + self.bias\n",
    "        return self.output\n",
    "\n",
    "    def evolve(self, evolution_rate):\n",
    "        for i, weight in enumerate(self.weights):\n",
    "            self.weights[i] *= np.random.normal(loc=1, scale=evolution_rate, size=1)\n",
    "        for i, bias in enumerate(self.bias):\n",
    "            self.bias[i] *= np.random.normal(loc=1, scale=evolution_rate, size=1)\n",
    "    \n",
    "    \n",
    "# Activation Layer\n",
    "class ActivationLayer(Layer):\n",
    "    def __init__(self, activation, activation_prime):\n",
    "        self.activation = activation\n",
    "        self.activation_prime = activation_prime\n",
    "\n",
    "    # returns the activated input\n",
    "    def forward_propagation(self, input_data):\n",
    "        self.input = input_data\n",
    "        self.output = self.activation(self.input)\n",
    "        return self.output\n",
    "\n",
    "    def evolve(self, evolution_rate):\n",
    "        pass\n",
    "\n",
    "    \n",
    "# activation function and its derivative\n",
    "def tanh(x):\n",
    "    return np.tanh(x)\n",
    "\n",
    "def tanh_prime(x):\n",
    "    return 1-np.tanh(x)**2\n",
    "\n",
    "\n",
    "class Network:\n",
    "    def __init__(self):\n",
    "        self.layers = []\n",
    "        self.loss = None\n",
    "        self.loss_prime = None\n",
    "\n",
    "    # add layer to network\n",
    "    def add(self, layer):\n",
    "        self.layers.append(layer)\n",
    "\n",
    "    def evolve(self, evolution_rate):\n",
    "        for layer in self.layers:\n",
    "            layer.evolve(evolution_rate)\n",
    "\n",
    "    # predict output for given input\n",
    "    def predict(self, input_data):\n",
    "\n",
    "        result = []\n",
    "\n",
    "        output = input_data\n",
    "\n",
    "        # forward propagation\n",
    "        for layer in self.layers:\n",
    "            output = layer.forward_propagation(output)\n",
    "\n",
    "            \n",
    "        result.append(output)\n",
    "\n",
    "        return result"
   ]
  },
  {
   "cell_type": "code",
   "execution_count": 43,
   "metadata": {},
   "outputs": [],
   "source": [
    "input = [\n",
    "    75,     # health\n",
    "    3,      # food\n",
    "    0,\n",
    "    0\n",
    "]\n",
    "\n",
    "# example output\n",
    "output = [\n",
    "    0.1,     # rotate\n",
    "    0.6    # forward speed\n",
    "]"
   ]
  },
  {
   "cell_type": "code",
   "execution_count": 150,
   "metadata": {},
   "outputs": [
    {
     "data": {
      "text/plain": [
       "[array([[ 0.85825698, -0.48242145]])]"
      ]
     },
     "execution_count": 150,
     "metadata": {},
     "output_type": "execute_result"
    }
   ],
   "source": [
    "# network\n",
    "net = Network()\n",
    "net.add(FCLayer(4, 4))\n",
    "net.add(ActivationLayer(tanh, tanh_prime))\n",
    "net.add(FCLayer(4, 2))\n",
    "net.add(ActivationLayer(tanh, tanh_prime))\n",
    "\n",
    "out = net.predict(input)\n",
    "\n",
    "out\n",
    "\n"
   ]
  },
  {
   "cell_type": "code",
   "execution_count": 151,
   "metadata": {},
   "outputs": [
    {
     "data": {
      "text/plain": [
       "[array([[ 0.85825698, -0.48242145]])]"
      ]
     },
     "execution_count": 151,
     "metadata": {},
     "output_type": "execute_result"
    }
   ],
   "source": [
    "input = [\n",
    "    50,     # health\n",
    "    3,      # food\n",
    "    0,\n",
    "    10\n",
    "]\n",
    "\n",
    "out = net.predict(input)\n",
    "\n",
    "out"
   ]
  },
  {
   "cell_type": "code",
   "execution_count": 190,
   "metadata": {},
   "outputs": [
    {
     "data": {
      "text/plain": [
       "[array([[ 0.89773181, -0.55211815]])]"
      ]
     },
     "execution_count": 190,
     "metadata": {},
     "output_type": "execute_result"
    }
   ],
   "source": [
    "input = [\n",
    "    50,     # health\n",
    "    3,      # food\n",
    "    0,\n",
    "    10\n",
    "]\n",
    "\n",
    "net.evolve(evolution_rate=0.1)\n",
    "\n",
    "out = net.predict(input)\n",
    "\n",
    "out"
   ]
  },
  {
   "cell_type": "code",
   "execution_count": 59,
   "metadata": {},
   "outputs": [
    {
     "name": "stdout",
     "output_type": "stream",
     "text": [
      "Weights\n",
      "[[-0.45277553  0.36854566  0.3197564   0.47522099]\n",
      " [ 0.2417056  -0.34621124  0.24913906 -0.10721236]\n",
      " [ 0.29196698 -0.48446242  0.21071066  0.28477073]\n",
      " [-0.26225605  0.33528059  0.05173828 -0.0770673 ]]\n",
      "Bias\n",
      "[[ 0.2694736   0.34840061  0.46478432 -0.35399001]]\n",
      "\n",
      "Activation\n",
      "<function tanh at 0x000002866E32AB00>\n",
      "ACtivation Prime\n",
      "<function tanh_prime at 0x000002867D8FC1F0>\n",
      "\n",
      "Weights\n",
      "[[ 0.33746061 -0.03092476]\n",
      " [-0.07570809  0.02957056]\n",
      " [ 0.14266927 -0.32458779]\n",
      " [ 0.14996964  0.36825241]]\n",
      "Bias\n",
      "[[0.20228765 0.15207427]]\n",
      "\n",
      "Activation\n",
      "<function tanh at 0x000002866E32AB00>\n",
      "ACtivation Prime\n",
      "<function tanh_prime at 0x000002867D8FC1F0>\n"
     ]
    }
   ],
   "source": [
    "print(\"Weights\")\n",
    "print(net.layers[0].weights)\n",
    "\n",
    "print(\"Bias\")\n",
    "print(net.layers[0].bias)\n",
    "\n",
    "print()\n",
    "\n",
    "print(\"Activation\")\n",
    "print(net.layers[1].activation)\n",
    "\n",
    "print(\"ACtivation Prime\")\n",
    "print(net.layers[1].activation_prime)\n",
    "\n",
    "print()\n",
    "\n",
    "print(\"Weights\")\n",
    "print(net.layers[2].weights)\n",
    "\n",
    "print(\"Bias\")\n",
    "print(net.layers[2].bias)\n",
    "\n",
    "print()\n",
    "\n",
    "print(\"Activation\")\n",
    "print(net.layers[3].activation)\n",
    "\n",
    "print(\"ACtivation Prime\")\n",
    "print(net.layers[3].activation_prime)"
   ]
  },
  {
   "cell_type": "code",
   "execution_count": 198,
   "metadata": {},
   "outputs": [
    {
     "data": {
      "text/plain": [
       "[0.05403023058681398, -0.08414709848078966]"
      ]
     },
     "execution_count": 198,
     "metadata": {},
     "output_type": "execute_result"
    }
   ],
   "source": [
    "def vectorFromAngle(a):\n",
    "    return [np.cos(a), np.sin(a)]\n",
    "\n",
    "def scaleVector(vector, length):\n",
    "    f = length / np.linalg.norm(vector)\n",
    "    return [f * i for i in vector]\n",
    "\n",
    "angle = -1\n",
    "scale = 0.1\n",
    "\n",
    "scaleVector(vectorFromAngle(angle), scale)"
   ]
  },
  {
   "cell_type": "code",
   "execution_count": 9,
   "metadata": {},
   "outputs": [
    {
     "data": {
      "text/plain": [
       "(0.5, -2.0, 1.3599999999999999, 1.1313708498984762, 1)"
      ]
     },
     "execution_count": 9,
     "metadata": {},
     "output_type": "execute_result"
    }
   ],
   "source": [
    "import calc\n",
    "import math\n",
    "import numpy as np\n",
    "\n",
    "E = [0,0]           # start of line\n",
    "L = [0.5,0.5]       # end of line\n",
    "\n",
    "C = [1, 1]          # centre of circle\n",
    "r = 0.8             # radius\n",
    "\n",
    "d = calc.subVectors(L, E)       # direction vector of ray from start to end\n",
    "f = calc.subVectors(E, C)       # vector from centre circle to ray start\n",
    "\n",
    "a = np.dot(d, d)\n",
    "b = 2 * np.dot(f, d)\n",
    "c = np.dot(f, f) - r*r\n",
    "\n",
    "disc = b*b - 4 * a * c\n",
    "\n",
    "hit = 0\n",
    "\n",
    "if disc >= 0:\n",
    "\n",
    "    disc = math.sqrt(disc)\n",
    "    t1 = (-b - disc) / (2 * a)\n",
    "    t2 = (-b + disc) / (2 * a)\n",
    "\n",
    "    if (t1 >= 0) & (t1 <= 1):\n",
    "        hit = 1\n",
    "\n",
    "    elif (t2 >= 0) & (t2 <= 1):\n",
    "        hit = 1\n",
    "\n",
    "\n",
    "a, b, c, disc, hit\n"
   ]
  },
  {
   "cell_type": "code",
   "execution_count": 10,
   "metadata": {},
   "outputs": [
    {
     "data": {
      "text/plain": [
       "1"
      ]
     },
     "execution_count": 10,
     "metadata": {},
     "output_type": "execute_result"
    }
   ],
   "source": [
    "calc.lineIntersectsCircle(E, L, C, r)"
   ]
  },
  {
   "cell_type": "code",
   "execution_count": 2,
   "metadata": {},
   "outputs": [
    {
     "data": {
      "text/plain": [
       "0.3217505543966423"
      ]
     },
     "execution_count": 2,
     "metadata": {},
     "output_type": "execute_result"
    }
   ],
   "source": [
    "import calc\n",
    "\n",
    "v1 = [1, 1]\n",
    "v2 = [1, 2]\n",
    "\n",
    "th = calc.signedTheta(v1, v2)\n",
    "\n",
    "th"
   ]
  }
 ],
 "metadata": {
  "kernelspec": {
   "display_name": "Python 3.10.0 64-bit",
   "language": "python",
   "name": "python3"
  },
  "language_info": {
   "codemirror_mode": {
    "name": "ipython",
    "version": 3
   },
   "file_extension": ".py",
   "mimetype": "text/x-python",
   "name": "python",
   "nbconvert_exporter": "python",
   "pygments_lexer": "ipython3",
   "version": "3.10.0"
  },
  "orig_nbformat": 4,
  "vscode": {
   "interpreter": {
    "hash": "e840f835684bb817df5906e8ed510f836174b639f32d5b8a3998d784828aaa2b"
   }
  }
 },
 "nbformat": 4,
 "nbformat_minor": 2
}
